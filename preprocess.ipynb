{
 "cells": [
  {
   "cell_type": "code",
   "execution_count": 1,
   "metadata": {},
   "outputs": [],
   "source": [
    "import warnings\n",
    "warnings.filterwarnings(action='ignore')\n",
    "\n",
    "import numpy as np\n",
    "import os\n",
    "os.environ['KMP_DUPLICATE_LIB_OK']='True'\n",
    "from scipy.sparse import *\n",
    "from collections import Counter\n",
    "import pandas as pd"
   ]
  },
  {
   "cell_type": "code",
   "execution_count": 2,
   "metadata": {},
   "outputs": [],
   "source": [
    "org_train = pd.read_json(\"data/train.json\")\n",
    "org_val = pd.read_json(\"data/val.json\")"
   ]
  },
  {
   "cell_type": "markdown",
   "metadata": {},
   "source": [
    "## Add likes"
   ]
  },
  {
   "cell_type": "code",
   "execution_count": 61,
   "metadata": {},
   "outputs": [],
   "source": [
    "raw_train = org_train.loc[:,[\"tags\",\"songs\"]]\n",
    "raw_val = org_val.loc[:,[\"tags\",\"id\",\"songs\"]]"
   ]
  },
  {
   "cell_type": "code",
   "execution_count": 57,
   "metadata": {},
   "outputs": [
    {
     "data": {
      "text/plain": [
       "tags                       [50000]\n",
       "like_cnt                        71\n",
       "songs       [0, 1, 2, 3, 4, 50000]\n",
       "Name: 0, dtype: object"
      ]
     },
     "execution_count": 57,
     "metadata": {},
     "output_type": "execute_result"
    }
   ],
   "source": [
    "raw_train.loc[0]"
   ]
  },
  {
   "cell_type": "code",
   "execution_count": 44,
   "metadata": {},
   "outputs": [],
   "source": [
    "norm_tlikes = raw_train.like_cnt.tolist()\n",
    "norm_vlikes = raw_val.like_cnt.tolist()"
   ]
  },
  {
   "cell_type": "markdown",
   "metadata": {},
   "source": [
    "# Normalize like_cnt"
   ]
  },
  {
   "cell_type": "code",
   "execution_count": 10,
   "metadata": {},
   "outputs": [],
   "source": [
    "total = sum(norm_tlikes)\n",
    "norm_tlikes = [float(i)/total for i in train_likes]\n",
    "norm_vlikes = [float(i)/total for i in train_val]"
   ]
  },
  {
   "cell_type": "code",
   "execution_count": 11,
   "metadata": {},
   "outputs": [],
   "source": [
    "SONG_TOP_X = 50000\n",
    "TAG_TOP_X = 29160"
   ]
  },
  {
   "cell_type": "markdown",
   "metadata": {},
   "source": [
    "## Average num of tags"
   ]
  },
  {
   "cell_type": "code",
   "execution_count": 12,
   "metadata": {},
   "outputs": [
    {
     "name": "stdout",
     "output_type": "stream",
     "text": [
      "4.139453033344631\n"
     ]
    }
   ],
   "source": [
    "songs_list = list()\n",
    "\n",
    "total = 0\n",
    "\n",
    "for playlist in raw_train.tags.tolist():\n",
    "    total += len(playlist)\n",
    "\n",
    "print(total/len(raw_train))"
   ]
  },
  {
   "cell_type": "markdown",
   "metadata": {},
   "source": [
    "## Total number of tags and songs"
   ]
  },
  {
   "cell_type": "code",
   "execution_count": 10,
   "metadata": {},
   "outputs": [],
   "source": [
    "def count_col(data):\n",
    "    tmp = dict()\n",
    "    ret = 0\n",
    "\n",
    "    for row in (data):\n",
    "        for song in row:\n",
    "            if song not in tmp:\n",
    "                tmp[song] = 0\n",
    "                ret +=1 \n",
    "    return ret"
   ]
  },
  {
   "cell_type": "code",
   "execution_count": 11,
   "metadata": {},
   "outputs": [
    {
     "data": {
      "text/plain": [
       "615142"
      ]
     },
     "execution_count": 11,
     "metadata": {},
     "output_type": "execute_result"
    }
   ],
   "source": [
    "count_col(raw_train.songs.tolist())"
   ]
  },
  {
   "cell_type": "code",
   "execution_count": 12,
   "metadata": {},
   "outputs": [
    {
     "data": {
      "text/plain": [
       "29160"
      ]
     },
     "execution_count": 12,
     "metadata": {},
     "output_type": "execute_result"
    }
   ],
   "source": [
    "count_col(raw_train.tags.tolist())"
   ]
  },
  {
   "cell_type": "markdown",
   "metadata": {},
   "source": [
    "## Calc Portion"
   ]
  },
  {
   "cell_type": "code",
   "execution_count": 8,
   "metadata": {},
   "outputs": [],
   "source": [
    "def calc_portion_x(cols,x):\n",
    "    all_cols = []\n",
    "    for col in cols:\n",
    "        all_cols += col\n",
    "        \n",
    "    cols_cnt = dict(Counter(all_cols))\n",
    "    \n",
    "    cols_cnt_list = sorted(cols_cnt.items(), key=lambda t: -t[1])\n",
    "    \n",
    "    x_cnt = sum(x[1] for x in cols_cnt_list[:x])\n",
    "    total = sum(x[1] for x in cols_cnt_list)\n",
    "    return x_cnt/total"
   ]
  },
  {
   "cell_type": "markdown",
   "metadata": {},
   "source": [
    "### tag portion"
   ]
  },
  {
   "cell_type": "code",
   "execution_count": 9,
   "metadata": {},
   "outputs": [],
   "source": [
    "tag_portion = calc_portion_x(raw_train.tags.tolist(),TAG_TOP_X)"
   ]
  },
  {
   "cell_type": "code",
   "execution_count": 10,
   "metadata": {},
   "outputs": [
    {
     "data": {
      "text/plain": [
       "0.8914641289355512"
      ]
     },
     "execution_count": 10,
     "metadata": {},
     "output_type": "execute_result"
    }
   ],
   "source": [
    "tag_portion"
   ]
  },
  {
   "cell_type": "markdown",
   "metadata": {},
   "source": [
    "### song portion"
   ]
  },
  {
   "cell_type": "code",
   "execution_count": 11,
   "metadata": {},
   "outputs": [],
   "source": [
    "song_portion = calc_portion_x(raw_train.songs.tolist(),SONG_TOP_X)"
   ]
  },
  {
   "cell_type": "code",
   "execution_count": 12,
   "metadata": {},
   "outputs": [
    {
     "data": {
      "text/plain": [
       "0.7054667054871373"
      ]
     },
     "execution_count": 12,
     "metadata": {},
     "output_type": "execute_result"
    }
   ],
   "source": [
    "song_portion"
   ]
  },
  {
   "cell_type": "markdown",
   "metadata": {},
   "source": [
    "## Extract TOP_X songs and tags"
   ]
  },
  {
   "cell_type": "code",
   "execution_count": 15,
   "metadata": {},
   "outputs": [],
   "source": [
    "def get_top_x(cols, x):\n",
    "    \"\"\"\n",
    "    cols : 2D array\n",
    "    x: int\n",
    "    ---------------------------\n",
    "    song_id : cnt\n",
    "    in descending order\n",
    "    \"\"\"\n",
    "    all_cols = []\n",
    "    for col in cols:\n",
    "        all_cols += col\n",
    "        \n",
    "    cols_cnt = dict(Counter(all_cols))\n",
    "    \n",
    "    cols_cnt_list = sorted(cols_cnt.items(), key=lambda t: -t[1])\n",
    "    top_cols_cnt = dict()\n",
    "\n",
    "    for col, cnt in cols_cnt_list[:x]:\n",
    "        top_cols_cnt[col] = cnt\n",
    "    return top_cols_cnt"
   ]
  },
  {
   "cell_type": "code",
   "execution_count": 16,
   "metadata": {},
   "outputs": [],
   "source": [
    "top_songs = get_top_x(raw_train.songs.tolist(), SONG_TOP_X)\n",
    "\n",
    "assert len(top_songs) == SONG_TOP_X, \"top_songs are not extracted correctly\""
   ]
  },
  {
   "cell_type": "code",
   "execution_count": 17,
   "metadata": {},
   "outputs": [],
   "source": [
    "top_tags = get_top_x(raw_train.tags.tolist(), TAG_TOP_X)\n",
    "\n",
    "assert len(top_tags) == TAG_TOP_X, \"top_tags are not extracted correctly\""
   ]
  },
  {
   "cell_type": "markdown",
   "metadata": {},
   "source": [
    "## Remove raw data that song_id is not in top_song and change song_id to idx\n",
    "\n",
    "song_to_idx:\n",
    "  - key: song_id (from raw data)\n",
    "  - value: idx [0 : SONG_TOP_X-1]\n",
    " \n",
    "idx_to_song:\n",
    "   - key: idx [0 : SONG_TOP_X-1]\n",
    "   - value: song_id (from raw data)"
   ]
  },
  {
   "cell_type": "code",
   "execution_count": 75,
   "metadata": {},
   "outputs": [],
   "source": [
    "song_to_idx = dict()\n",
    "idx_to_song = dict()\n",
    "idx = 0\n",
    "\n",
    "#make song to idx\n",
    "#make idx to song\n",
    "for songs in raw_train.songs.tolist():\n",
    "    for song in songs:\n",
    "        if song not in song_to_idx and song in top_songs:\n",
    "            song_to_idx[song] = idx\n",
    "            idx_to_song[idx] = song\n",
    "            idx+=1\n",
    "\n",
    "#change song id to idx\n",
    "for i, row in raw_train.iterrows():\n",
    "    tmp = []\n",
    "    for songs in raw_train.loc[i,[\"songs\"]]:\n",
    "        for song in songs:\n",
    "            if song in top_songs: tmp.append(song_to_idx[song])\n",
    "    raw_train.at[i,'songs'] = tmp"
   ]
  },
  {
   "cell_type": "code",
   "execution_count": 76,
   "metadata": {},
   "outputs": [],
   "source": [
    "#change te song id to idx\n",
    "for i, row in raw_val.iterrows():\n",
    "    tmp = []\n",
    "    for songs in raw_val.loc[i,[\"songs\"]]:\n",
    "        for song in songs:\n",
    "            if song in top_songs: tmp.append(song_to_idx[song])\n",
    "    raw_val.at[i,'songs'] = tmp"
   ]
  },
  {
   "cell_type": "code",
   "execution_count": 77,
   "metadata": {},
   "outputs": [
    {
     "data": {
      "text/plain": [
       "tags                 [락]\n",
       "songs    [0, 1, 2, 3, 4]\n",
       "Name: 0, dtype: object"
      ]
     },
     "execution_count": 77,
     "metadata": {},
     "output_type": "execute_result"
    }
   ],
   "source": [
    "raw_train.loc[0]"
   ]
  },
  {
   "cell_type": "code",
   "execution_count": 78,
   "metadata": {},
   "outputs": [],
   "source": [
    "assert len(song_to_idx) == SONG_TOP_X, \"song_to_idx has problem\""
   ]
  },
  {
   "cell_type": "code",
   "execution_count": 79,
   "metadata": {},
   "outputs": [
    {
     "data": {
      "text/plain": [
       "tags                 [락]\n",
       "songs    [0, 1, 2, 3, 4]\n",
       "Name: 0, dtype: object"
      ]
     },
     "execution_count": 79,
     "metadata": {},
     "output_type": "execute_result"
    }
   ],
   "source": [
    "raw_train.loc[0]"
   ]
  },
  {
   "cell_type": "markdown",
   "metadata": {},
   "source": [
    "## Remove raw data that tag is not in top_tag and change change tags from str to id\n",
    "\n",
    "tag_to_idx:\n",
    "  - key: tag_id (from raw data, str)\n",
    "  - value: idx [SONG_TOP_X : TAG_TOP_X+SONG_TOP_X-1]\n",
    " \n",
    "idx_to_tag:\n",
    "   - key: idx [SONG_TOP_X : TAG_TOP_X+SONG_TOP_X-1]\n",
    "   - value: song_id (from raw data)"
   ]
  },
  {
   "cell_type": "code",
   "execution_count": 21,
   "metadata": {},
   "outputs": [],
   "source": [
    "tag_to_idx = dict()\n",
    "idx_to_tag = dict()\n",
    "\n",
    "#make song to idx\n",
    "#make idx to song\n",
    "for tags in raw_train.tags.tolist():\n",
    "    for tag in tags:\n",
    "        if tag not in tag_to_idx and tag in top_tags:\n",
    "            tag_to_idx[tag] = idx\n",
    "            idx_to_tag[idx] = tag\n",
    "            idx+=1\n",
    "\n",
    "#change song id to idx\n",
    "for i, row in raw_train.iterrows():\n",
    "    tmp = []\n",
    "    for tags in raw_train.loc[i,[\"tags\"]]:\n",
    "        for tag in tags:\n",
    "            if tag in top_tags: tmp.append(tag_to_idx[tag])\n",
    "    raw_train.at[i,'tags'] = tmp"
   ]
  },
  {
   "cell_type": "code",
   "execution_count": 22,
   "metadata": {},
   "outputs": [],
   "source": [
    "for i, row in raw_val.iterrows():\n",
    "    tmp = []\n",
    "    for tags in raw_val.loc[i,[\"tags\"]]:\n",
    "        for tag in tags:\n",
    "            if tag in top_tags: tmp.append(tag_to_idx[tag])\n",
    "    raw_val.at[i,'tags'] = tmp"
   ]
  },
  {
   "cell_type": "code",
   "execution_count": 23,
   "metadata": {},
   "outputs": [],
   "source": [
    "assert len(tag_to_idx) == TAG_TOP_X, \"tag_to_idx has problem\""
   ]
  },
  {
   "cell_type": "code",
   "execution_count": 24,
   "metadata": {},
   "outputs": [],
   "source": [
    "n_items = len(song_to_idx)"
   ]
  },
  {
   "cell_type": "markdown",
   "metadata": {},
   "source": [
    "## Make playlist X (songs + tags ids) table"
   ]
  },
  {
   "cell_type": "code",
   "execution_count": 25,
   "metadata": {},
   "outputs": [],
   "source": [
    "tr_songs = raw_train.songs.tolist()\n",
    "tr_tags = raw_train.tags.tolist()\n",
    "te_songs = raw_val.songs.tolist()\n",
    "te_tags = raw_val.tags.tolist()"
   ]
  },
  {
   "cell_type": "markdown",
   "metadata": {},
   "source": [
    "tr & te:\n",
    "  - row: playlist\n",
    "  - col: {song| tag}_idx (from 0 to SONG_TOP_X + TAG_TOP_X)\n"
   ]
  },
  {
   "cell_type": "code",
   "execution_count": 26,
   "metadata": {},
   "outputs": [],
   "source": [
    "tr = []\n",
    "\n",
    "for songs in tr_songs:\n",
    "    tr.append(songs)\n",
    "\n",
    "for i, tags in enumerate(tr_tags):\n",
    "    tr[i].extend(tags)"
   ]
  },
  {
   "cell_type": "code",
   "execution_count": 27,
   "metadata": {},
   "outputs": [],
   "source": [
    "te = []\n",
    "for songs in te_songs:\n",
    "    te.append(songs)\n",
    "\n",
    "for i, tags in enumerate(te_tags):\n",
    "    te[i].extend(tags)"
   ]
  },
  {
   "cell_type": "markdown",
   "metadata": {},
   "source": [
    "## Make likes"
   ]
  },
  {
   "cell_type": "markdown",
   "metadata": {},
   "source": [
    "## Change te is doen at above"
   ]
  },
  {
   "cell_type": "code",
   "execution_count": 102,
   "metadata": {},
   "outputs": [],
   "source": [
    "def lil_to_csr(playlists,playlists2 = [], likes1 = [], likes2 = []):\n",
    "    \"\"\"\n",
    "    playlists: playlist with top songs and tags\n",
    "    \"\"\"\n",
    "    row = []\n",
    "    col = []\n",
    "    data = []\n",
    "    te_row = len(te)\n",
    "        \n",
    "    for row_idx, playlist in enumerate(playlists):\n",
    "        for idx in playlist:\n",
    "            col.append(idx)\n",
    "            if idx > SONG_TOP_X:\n",
    "                data.append(1)\n",
    "            else:\n",
    "                data.append(likes1[row_idx])\n",
    "            row.append(row_idx)\n",
    "    \n",
    "    for row_idx, playlist in enumerate(playlists2):\n",
    "        for idx in playlist:\n",
    "            col.append(idx)\n",
    "            if idx >= SONG_TOP_X:\n",
    "                data.append(1)\n",
    "            else:\n",
    "                data.append(likes2[row_idx])\n",
    "            row.append(te_row + row_idx)\n",
    "    return row, col, data"
   ]
  },
  {
   "cell_type": "code",
   "execution_count": 103,
   "metadata": {},
   "outputs": [],
   "source": [
    "csr_row, csr_col, csr_data = lil_to_csr(te, tr, norm_vlikes, norm_tlikes)"
   ]
  },
  {
   "cell_type": "code",
   "execution_count": 104,
   "metadata": {},
   "outputs": [],
   "source": [
    "r = csr_matrix((csr_data, (csr_row, csr_col)))"
   ]
  },
  {
   "cell_type": "code",
   "execution_count": 106,
   "metadata": {},
   "outputs": [],
   "source": [
    "from scipy import sparse"
   ]
  },
  {
   "cell_type": "code",
   "execution_count": 107,
   "metadata": {},
   "outputs": [],
   "source": [
    "sparse.save_npz(\"./data/preprocessed/csr.npz\", r)"
   ]
  },
  {
   "cell_type": "code",
   "execution_count": 108,
   "metadata": {},
   "outputs": [],
   "source": [
    "validation_len = len(te)\n",
    "te_ids = org_val.id.tolist()\n",
    "# n_items\n",
    "# song_top_x\n",
    "\n",
    "extra = {\"v_len\" : validation_len,\n",
    "        \"te_ids\" : te_ids,\n",
    "        \"n_items\": n_items,\n",
    "        \"SONG_TOP_X\" : SONG_TOP_X\n",
    "        }\n",
    "\n",
    "import pickle\n",
    "import os\n",
    "from pathlib import Path\n",
    "script_dir = os.getcwd()\n",
    "data_dir = \"data/preprocessed\"\n",
    "abs_data_path = Path(os.path.join(script_dir, data_dir))\n",
    "if not os.path.exists(abs_data_path):\n",
    "    os.makedirs(abs_data_path)\n",
    "with open(abs_data_path/\"extra.pickle\", 'wb') as handle:\n",
    "    pickle.dump(extra, handle, protocol=pickle.HIGHEST_PROTOCOL)\n",
    "    \n",
    "with open(abs_data_path/\"song.pickle\", \"wb\") as f:\n",
    "    pickle.dump(idx_to_song,f)\n",
    "\n",
    "with open(abs_data_path/\"tag.pickle\", \"wb\") as f:\n",
    "    pickle.dump(idx_to_tag,f)"
   ]
  },
  {
   "cell_type": "code",
   "execution_count": null,
   "metadata": {},
   "outputs": [],
   "source": []
  }
 ],
 "metadata": {
  "kernelspec": {
   "display_name": "Python 3",
   "language": "python",
   "name": "python3"
  },
  "language_info": {
   "codemirror_mode": {
    "name": "ipython",
    "version": 3
   },
   "file_extension": ".py",
   "mimetype": "text/x-python",
   "name": "python",
   "nbconvert_exporter": "python",
   "pygments_lexer": "ipython3",
   "version": "3.7.7"
  }
 },
 "nbformat": 4,
 "nbformat_minor": 4
}
