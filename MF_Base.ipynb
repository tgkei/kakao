{
 "cells": [
  {
   "cell_type": "code",
   "execution_count": 3,
   "metadata": {},
   "outputs": [],
   "source": [
    "import warnings\n",
    "warnings.filterwarnings(action='ignore')\n",
    "\n",
    "from implicit.evaluation import  *\n",
    "from implicit.als import AlternatingLeastSquares as ALS\n",
    "from implicit.bpr import BayesianPersonalizedRanking as BPR\n",
    "import numpy as np\n",
    "import os\n",
    "os.environ['KMP_DUPLICATE_LIB_OK']='True'\n",
    "from sklearn.utils import shuffle\n",
    "from scipy.sparse import *\n",
    "from collections import Counter\n",
    "import pandas as pd"
   ]
  },
  {
   "cell_type": "code",
   "execution_count": 13,
   "metadata": {},
   "outputs": [],
   "source": [
    "from tqdm.notebook import tqdm"
   ]
  },
  {
   "cell_type": "code",
   "execution_count": 4,
   "metadata": {},
   "outputs": [],
   "source": [
    "raw_train = pd.read_json(\"data/train.json\")\n",
    "raw_val = pd.read_json(\"data/val.json\")"
   ]
  },
  {
   "cell_type": "markdown",
   "metadata": {},
   "source": [
    "## Calc Portion"
   ]
  },
  {
   "cell_type": "code",
   "execution_count": 23,
   "metadata": {},
   "outputs": [],
   "source": [
    "def calc_portion_x(cols,x):\n",
    "    all_cols = []\n",
    "    for col in cols:\n",
    "        all_cols += col\n",
    "        \n",
    "    cols_cnt = dict(Counter(all_cols))\n",
    "    \n",
    "    cols_cnt_list = sorted(cols_cnt.items(), key=lambda t: -t[1])\n",
    "    \n",
    "    x_cnt = sum(x[1] for x in cols_cnt_list[:x])\n",
    "    total = sum(x[1] for x in cols_cnt_list)\n",
    "    return x_cnt/total"
   ]
  },
  {
   "cell_type": "markdown",
   "metadata": {},
   "source": [
    "### tag portion"
   ]
  },
  {
   "cell_type": "code",
   "execution_count": 24,
   "metadata": {},
   "outputs": [],
   "source": [
    "tag_portion = calc_portion_x(raw_train.tags.tolist(),2500)"
   ]
  },
  {
   "cell_type": "code",
   "execution_count": 36,
   "metadata": {},
   "outputs": [
    {
     "data": {
      "text/plain": [
       "0.8914641289355512"
      ]
     },
     "execution_count": 36,
     "metadata": {},
     "output_type": "execute_result"
    }
   ],
   "source": [
    "tag_portion"
   ]
  },
  {
   "cell_type": "markdown",
   "metadata": {},
   "source": [
    "### song portion"
   ]
  },
  {
   "cell_type": "code",
   "execution_count": 34,
   "metadata": {},
   "outputs": [],
   "source": [
    "song_portion = calc_portion_x(raw_train.songs.tolist(),100000)"
   ]
  },
  {
   "cell_type": "code",
   "execution_count": 35,
   "metadata": {},
   "outputs": [
    {
     "data": {
      "text/plain": [
       "0.8096639134780247"
      ]
     },
     "execution_count": 35,
     "metadata": {},
     "output_type": "execute_result"
    }
   ],
   "source": [
    "song_portion"
   ]
  },
  {
   "cell_type": "markdown",
   "metadata": {},
   "source": [
    "## Extract only meaningful data"
   ]
  },
  {
   "cell_type": "code",
   "execution_count": 19,
   "metadata": {},
   "outputs": [],
   "source": [
    "def get_top_x(cols, x):\n",
    "    all_cols = []\n",
    "    for col in cols:\n",
    "        all_cols += col\n",
    "        \n",
    "    cols_cnt = dict(Counter(all_cols))\n",
    "    \n",
    "    cols_cnt_list = sorted(cols_cnt.items(), key=lambda t: -t[1])\n",
    "    top_cols_cnt = dict()\n",
    "\n",
    "    for col, cnt in cols_cnt_list[:x]:\n",
    "        top_cols_cnt[col] = cnt\n",
    "    return top_cols_cnt"
   ]
  },
  {
   "cell_type": "code",
   "execution_count": 20,
   "metadata": {},
   "outputs": [],
   "source": [
    "top_tags_cnt = get_top_x(raw_train.tags.tolist(), 2500)"
   ]
  },
  {
   "cell_type": "code",
   "execution_count": 21,
   "metadata": {},
   "outputs": [],
   "source": [
    "top_songs_cnt = get_top_x(raw_train.songs.tolist(), 2500)"
   ]
  },
  {
   "cell_type": "markdown",
   "metadata": {},
   "source": [
    "## Make playlist X (songs + tags ids) table"
   ]
  },
  {
   "cell_type": "code",
   "execution_count": 38,
   "metadata": {},
   "outputs": [],
   "source": [
    "tr_songs = raw_train.songs.tolist()\n",
    "tr_tags = raw_train.tags.tolist()\n",
    "te_songs = raw_val.songs.tolist()\n",
    "te_tags = raw_val.tags.tolist()\n",
    "te_ids = raw_val.id.tolist()"
   ]
  },
  {
   "cell_type": "code",
   "execution_count": 43,
   "metadata": {},
   "outputs": [],
   "source": [
    "tr = []\n",
    "song_to_idx = {}\n",
    "tag_to_idx = {} \n",
    "idx = 0\n",
    "\n",
    "for songs in tr_songs:\n",
    "    for song_id in songs:\n",
    "        if song_id not in song_to_idx and song_id in top_songs_cnt:\n",
    "            song_to_idx[song_id] = idx\n",
    "            idx += 1\n",
    "    song_ids = [song_to_idx[song_id] for song_id in songs if song_id in top_songs_cnt]\n",
    "    tr.append(song_ids)\n",
    "\n",
    "n_items = len(song_to_idx)\n",
    "\n",
    "for i, tags in enumerate(tr_tags):\n",
    "    for tag in tags:\n",
    "        if tag not in tag_to_idx and tag in top_tags_cnt:\n",
    "            tag_to_idx[tag] = idx\n",
    "            idx += 1\n",
    "    tr[i].extend([tag_to_idx[tag] for tag in tags if tag in top_tags_cnt])\n",
    "n_items = len(song_to_idx)\n",
    "n_tags = len(tag_to_idx)"
   ]
  },
  {
   "cell_type": "markdown",
   "metadata": {},
   "source": [
    "## ToDo"
   ]
  },
  {
   "cell_type": "code",
   "execution_count": 10,
   "metadata": {},
   "outputs": [
    {
     "name": "stdout",
     "output_type": "stream",
     "text": [
      "644301\n",
      "644302\n"
     ]
    }
   ],
   "source": [
    "maximum = -1\n",
    "for songs in tr:\n",
    "    for song in songs:\n",
    "        maximum = max(maximum,song)\n",
    "print(maximum)\n",
    "print(n_items+n_tags)"
   ]
  },
  {
   "cell_type": "code",
   "execution_count": 11,
   "metadata": {},
   "outputs": [],
   "source": [
    "te = []\n",
    "\n",
    "idx = 0\n",
    "for songs in te_songs:\n",
    "    ret = [] \n",
    "    for song_id in songs:\n",
    "        if song_id not in song_to_idx:\n",
    "            continue\n",
    "        ret.append(song_to_idx[song_id])\n",
    "    te.append(ret)\n",
    "idx = 0\n",
    "for i, tags in enumerate(te_tags):\n",
    "    ret = []\n",
    "    for tag in tags:\n",
    "        if tag not in tag_to_idx:\n",
    "            continue\n",
    "        ret.append(tag)\n",
    "    te[i].extend([tag_to_idx[x] for x in ret])"
   ]
  },
  {
   "cell_type": "code",
   "execution_count": 12,
   "metadata": {},
   "outputs": [],
   "source": [
    "tr = shuffle(tr)"
   ]
  },
  {
   "cell_type": "code",
   "execution_count": 13,
   "metadata": {},
   "outputs": [],
   "source": [
    "idx_to_song = {x:y for(y,x) in song_to_idx.items()}\n",
    "idx_to_tag = {(x - n_items):y for(y,x) in tag_to_idx.items()}"
   ]
  },
  {
   "cell_type": "code",
   "execution_count": 14,
   "metadata": {},
   "outputs": [],
   "source": [
    "from scipy.sparse import csr_matrix, vstack"
   ]
  },
  {
   "cell_type": "code",
   "execution_count": 15,
   "metadata": {},
   "outputs": [],
   "source": [
    "def lil_to_csr(songs, num):\n",
    "    row = len(songs)\n",
    "    col = num\n",
    "    ret = np.zeros((row,col))\n",
    "    for idx, song in enumerate(songs):\n",
    "        for each in song:\n",
    "            ret[idx][each] = 1\n",
    "    return ret"
   ]
  },
  {
   "cell_type": "code",
   "execution_count": 16,
   "metadata": {},
   "outputs": [],
   "source": [
    "tr_csr = lil_to_csr(tr, n_tags + n_items)"
   ]
  },
  {
   "cell_type": "code",
   "execution_count": 17,
   "metadata": {},
   "outputs": [],
   "source": [
    "te_csr = lil_to_csr(te, n_tags + n_items)"
   ]
  },
  {
   "cell_type": "code",
   "execution_count": null,
   "metadata": {},
   "outputs": [],
   "source": [
    "r = vstack([te_csr, tr_csr])"
   ]
  },
  {
   "cell_type": "code",
   "execution_count": null,
   "metadata": {},
   "outputs": [],
   "source": [
    "r = csr_matrix(r)"
   ]
  },
  {
   "cell_type": "code",
   "execution_count": null,
   "metadata": {},
   "outputs": [],
   "source": [
    "als_model = ALS(factors=128, regularization=0.08)\n",
    "als_model.fit(r.T * 15.0)"
   ]
  }
 ],
 "metadata": {
  "kernelspec": {
   "display_name": "Python 3",
   "language": "python",
   "name": "python3"
  },
  "language_info": {
   "codemirror_mode": {
    "name": "ipython",
    "version": 3
   },
   "file_extension": ".py",
   "mimetype": "text/x-python",
   "name": "python",
   "nbconvert_exporter": "python",
   "pygments_lexer": "ipython3",
   "version": "3.7.7"
  }
 },
 "nbformat": 4,
 "nbformat_minor": 4
}
