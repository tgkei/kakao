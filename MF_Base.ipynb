{
 "cells": [
  {
   "cell_type": "code",
   "execution_count": 1,
   "metadata": {},
   "outputs": [],
   "source": [
    "import warnings\n",
    "warnings.filterwarnings(action='ignore')\n",
    "\n",
    "from implicit.evaluation import  *\n",
    "from implicit.als import AlternatingLeastSquares as ALS\n",
    "from implicit.bpr import BayesianPersonalizedRanking as BPR\n",
    "import numpy as np\n",
    "import os\n",
    "os.environ['KMP_DUPLICATE_LIB_OK']='True'\n",
    "from sklearn.utils import shuffle\n",
    "from scipy.sparse import *\n",
    "from collections import Counter\n",
    "import pandas as pd"
   ]
  },
  {
   "cell_type": "code",
   "execution_count": 2,
   "metadata": {},
   "outputs": [],
   "source": [
    "SONG_TOP_X = 50000\n",
    "TAG_TOP_X = 2500"
   ]
  },
  {
   "cell_type": "code",
   "execution_count": 3,
   "metadata": {},
   "outputs": [],
   "source": [
    "raw_train = pd.read_json(\"data/train.json\")\n",
    "raw_val = pd.read_json(\"data/val.json\")"
   ]
  },
  {
   "cell_type": "markdown",
   "metadata": {},
   "source": [
    "## Average num of tags"
   ]
  },
  {
   "cell_type": "code",
   "execution_count": 4,
   "metadata": {},
   "outputs": [
    {
     "name": "stdout",
     "output_type": "stream",
     "text": [
      "4.139453033344631\n"
     ]
    }
   ],
   "source": [
    "songs_list = list()\n",
    "\n",
    "total = 0\n",
    "\n",
    "for playlist in raw_train.tags.tolist():\n",
    "    total += len(playlist)\n",
    "\n",
    "print(total/len(raw_train))"
   ]
  },
  {
   "cell_type": "markdown",
   "metadata": {},
   "source": [
    "## Total number of tags and songs"
   ]
  },
  {
   "cell_type": "code",
   "execution_count": 5,
   "metadata": {},
   "outputs": [],
   "source": [
    "def count_col(data):\n",
    "    tmp = dict()\n",
    "    ret = 0\n",
    "\n",
    "    for row in (data):\n",
    "        for song in row:\n",
    "            if song not in tmp:\n",
    "                tmp[song] = 0\n",
    "                ret +=1 \n",
    "    return ret"
   ]
  },
  {
   "cell_type": "code",
   "execution_count": 6,
   "metadata": {},
   "outputs": [
    {
     "data": {
      "text/plain": [
       "615142"
      ]
     },
     "execution_count": 6,
     "metadata": {},
     "output_type": "execute_result"
    }
   ],
   "source": [
    "count_col(raw_train.songs.tolist())"
   ]
  },
  {
   "cell_type": "code",
   "execution_count": 7,
   "metadata": {},
   "outputs": [
    {
     "data": {
      "text/plain": [
       "29160"
      ]
     },
     "execution_count": 7,
     "metadata": {},
     "output_type": "execute_result"
    }
   ],
   "source": [
    "count_col(raw_train.tags.tolist())"
   ]
  },
  {
   "cell_type": "markdown",
   "metadata": {},
   "source": [
    "## Calc Portion"
   ]
  },
  {
   "cell_type": "code",
   "execution_count": 8,
   "metadata": {},
   "outputs": [],
   "source": [
    "def calc_portion_x(cols,x):\n",
    "    all_cols = []\n",
    "    for col in cols:\n",
    "        all_cols += col\n",
    "        \n",
    "    cols_cnt = dict(Counter(all_cols))\n",
    "    \n",
    "    cols_cnt_list = sorted(cols_cnt.items(), key=lambda t: -t[1])\n",
    "    \n",
    "    x_cnt = sum(x[1] for x in cols_cnt_list[:x])\n",
    "    total = sum(x[1] for x in cols_cnt_list)\n",
    "    return x_cnt/total"
   ]
  },
  {
   "cell_type": "markdown",
   "metadata": {},
   "source": [
    "### tag portion"
   ]
  },
  {
   "cell_type": "code",
   "execution_count": 9,
   "metadata": {},
   "outputs": [],
   "source": [
    "tag_portion = calc_portion_x(raw_train.tags.tolist(),TAG_TOP_X)"
   ]
  },
  {
   "cell_type": "code",
   "execution_count": 10,
   "metadata": {},
   "outputs": [
    {
     "data": {
      "text/plain": [
       "0.8914641289355512"
      ]
     },
     "execution_count": 10,
     "metadata": {},
     "output_type": "execute_result"
    }
   ],
   "source": [
    "tag_portion"
   ]
  },
  {
   "cell_type": "markdown",
   "metadata": {},
   "source": [
    "### song portion"
   ]
  },
  {
   "cell_type": "code",
   "execution_count": 11,
   "metadata": {},
   "outputs": [],
   "source": [
    "song_portion = calc_portion_x(raw_train.songs.tolist(),SONG_TOP_X)"
   ]
  },
  {
   "cell_type": "code",
   "execution_count": 12,
   "metadata": {},
   "outputs": [
    {
     "data": {
      "text/plain": [
       "0.7054667054871373"
      ]
     },
     "execution_count": 12,
     "metadata": {},
     "output_type": "execute_result"
    }
   ],
   "source": [
    "song_portion"
   ]
  },
  {
   "cell_type": "markdown",
   "metadata": {},
   "source": [
    "## Extract TOP_X songs and tags"
   ]
  },
  {
   "cell_type": "code",
   "execution_count": 13,
   "metadata": {},
   "outputs": [],
   "source": [
    "def get_top_x(cols, x):\n",
    "    \"\"\"\n",
    "    cols : 2D array\n",
    "    x: int\n",
    "    ---------------------------\n",
    "    song_id : cnt\n",
    "    in descending order\n",
    "    \"\"\"\n",
    "    all_cols = []\n",
    "    for col in cols:\n",
    "        all_cols += col\n",
    "        \n",
    "    cols_cnt = dict(Counter(all_cols))\n",
    "    \n",
    "    cols_cnt_list = sorted(cols_cnt.items(), key=lambda t: -t[1])\n",
    "    top_cols_cnt = dict()\n",
    "\n",
    "    for col, cnt in cols_cnt_list[:x]:\n",
    "        top_cols_cnt[col] = cnt\n",
    "    return top_cols_cnt"
   ]
  },
  {
   "cell_type": "code",
   "execution_count": 14,
   "metadata": {},
   "outputs": [],
   "source": [
    "top_songs = get_top_x(raw_train.songs.tolist(), SONG_TOP_X)\n",
    "\n",
    "assert len(top_songs) == SONG_TOP_X, \"top_songs are not extracted correctly\""
   ]
  },
  {
   "cell_type": "code",
   "execution_count": 15,
   "metadata": {},
   "outputs": [],
   "source": [
    "top_tags = get_top_x(raw_train.tags.tolist(), TAG_TOP_X)\n",
    "\n",
    "assert len(top_tags) == TAG_TOP_X, \"top_tags are not extracted correctly\""
   ]
  },
  {
   "cell_type": "markdown",
   "metadata": {},
   "source": [
    "## Remove raw data that song_id is not in top_song and change song_id to idx\n",
    "\n",
    "song_to_idx:\n",
    "  - key: song_id (from raw data)\n",
    "  - value: idx [0 : SONG_TOP_X-1]\n",
    " \n",
    "idx_to_song:\n",
    "   - key: idx [0 : SONG_TOP_X-1]\n",
    "   - value: song_id (from raw data)"
   ]
  },
  {
   "cell_type": "code",
   "execution_count": 16,
   "metadata": {},
   "outputs": [],
   "source": [
    "song_to_idx = dict()\n",
    "idx_to_song = dict()\n",
    "idx = 0\n",
    "for songs in raw_train.songs.tolist():\n",
    "    for song in songs:\n",
    "        if song not in song_to_idx and song in top_songs:\n",
    "            song_to_idx[song] = idx\n",
    "            idx_to_song[idx] = song\n",
    "            idx+=1\n",
    "\n",
    "for i, row in raw_train.iterrows():\n",
    "    tmp = []\n",
    "    for songs in raw_train.loc[i,[\"songs\"]]:\n",
    "        for song in songs:\n",
    "            if song in top_songs: tmp.append(song_to_idx[song])\n",
    "    raw_train.at[i,'songs'] = tmp"
   ]
  },
  {
   "cell_type": "code",
   "execution_count": 17,
   "metadata": {},
   "outputs": [],
   "source": [
    "assert len(song_to_idx) == SONG_TOP_X, \"song_to_idx has problem\""
   ]
  },
  {
   "cell_type": "markdown",
   "metadata": {},
   "source": [
    "## Remove raw data that tag is not in top_tag and change change tags from str to id\n",
    "\n",
    "tag_to_idx:\n",
    "  - key: tag_id (from raw data, str)\n",
    "  - value: idx [SONG_TOP_X : TAG_TOP_X+SONG_TOP_X-1]\n",
    " \n",
    "idx_to_tag:\n",
    "   - key: idx [SONG_TOP_X : TAG_TOP_X+SONG_TOP_X-1]\n",
    "   - value: song_id (from raw data)"
   ]
  },
  {
   "cell_type": "code",
   "execution_count": 18,
   "metadata": {},
   "outputs": [],
   "source": [
    "tag_to_idx = dict()\n",
    "idx_to_tag = dict()\n",
    "\n",
    "for tags in raw_train.tags.tolist():\n",
    "    for tag in tags:\n",
    "        if tag not in tag_to_idx and tag in top_tags:\n",
    "            tag_to_idx[tag] = idx\n",
    "            idx_to_tag[idx] = tag\n",
    "            idx+=1\n",
    "    \n",
    "for i, row in raw_train.iterrows():\n",
    "    tmp = []\n",
    "    for tags in raw_train.loc[i,[\"tags\"]]:\n",
    "        for tag in tags:\n",
    "            if tag in top_tags: tmp.append(tag_to_idx[tag])\n",
    "    raw_train.at[i,'tags'] = tmp"
   ]
  },
  {
   "cell_type": "code",
   "execution_count": 19,
   "metadata": {},
   "outputs": [],
   "source": [
    "assert len(tag_to_idx) == TAG_TOP_X, \"tag_to_idx has problem\""
   ]
  },
  {
   "cell_type": "code",
   "execution_count": 20,
   "metadata": {},
   "outputs": [],
   "source": [
    "n_items = len(song_to_idx)"
   ]
  },
  {
   "cell_type": "markdown",
   "metadata": {},
   "source": [
    "## Make playlist X (songs + tags ids) table"
   ]
  },
  {
   "cell_type": "code",
   "execution_count": 21,
   "metadata": {},
   "outputs": [],
   "source": [
    "tr_songs = raw_train.songs.tolist()\n",
    "tr_tags = raw_train.tags.tolist()\n",
    "te_songs = raw_val.songs.tolist()\n",
    "te_tags = raw_val.tags.tolist()"
   ]
  },
  {
   "cell_type": "markdown",
   "metadata": {},
   "source": [
    "tr & te:\n",
    "  - row: playlist\n",
    "  - col: {song| tag}_idx (from 0 to SONG_TOP_X + TAG_TOP_X)\n"
   ]
  },
  {
   "cell_type": "code",
   "execution_count": 23,
   "metadata": {},
   "outputs": [],
   "source": [
    "tr = []\n",
    "\n",
    "for songs in tr_songs:\n",
    "    tr.append(songs)\n",
    "\n",
    "for i, tags in enumerate(tr_tags):\n",
    "    tr[i].extend(tags)"
   ]
  },
  {
   "cell_type": "code",
   "execution_count": 32,
   "metadata": {},
   "outputs": [],
   "source": [
    "te = []\n",
    "\n",
    "for songs in te_songs:\n",
    "    temp = []\n",
    "    for song in songs:\n",
    "        if song in song_to_idx:\n",
    "            temp.append(song_to_idx[song])\n",
    "    te.append(temp)\n",
    "\n",
    "for i, tags in enumerate(te_tags):\n",
    "    temp = []\n",
    "    for tag in tags:\n",
    "        if tag in tag_to_idx:\n",
    "            temp.append(tag_to_idx[tag])\n",
    "    te[i].extend(temp)"
   ]
  },
  {
   "cell_type": "code",
   "execution_count": 43,
   "metadata": {},
   "outputs": [],
   "source": [
    "def lil_to_csr(playlists,playlists2 = []):\n",
    "    \"\"\"\n",
    "    playlists: playlist with top songs and tags\n",
    "    \"\"\"\n",
    "    row = []\n",
    "    col = []\n",
    "    data = []\n",
    "    for row_idx, playlist in enumerate(playlists):\n",
    "        for idx in playlist:\n",
    "            col.append(idx)\n",
    "            data.append(1)\n",
    "            row.append(row_idx)\n",
    "    \n",
    "    for row_idx, playlist in enumerate(playlists2):\n",
    "        for idx in playlist:\n",
    "            col.append(idx)\n",
    "            data.append(1)\n",
    "            row.append(row_idx)\n",
    "    return row, col, data"
   ]
  },
  {
   "cell_type": "code",
   "execution_count": 44,
   "metadata": {},
   "outputs": [],
   "source": [
    "csr_row, csr_col, csr_data = lil_to_csr(te, tr)"
   ]
  },
  {
   "cell_type": "code",
   "execution_count": 46,
   "metadata": {},
   "outputs": [],
   "source": [
    "r = csr_matrix((csr_data, (csr_row, csr_col)))"
   ]
  },
  {
   "cell_type": "code",
   "execution_count": 47,
   "metadata": {},
   "outputs": [],
   "source": [
    "te_r= r[:len(te)]"
   ]
  },
  {
   "cell_type": "code",
   "execution_count": 48,
   "metadata": {},
   "outputs": [
    {
     "name": "stderr",
     "output_type": "stream",
     "text": [
      "WARNING:root:OpenBLAS detected. Its highly recommend to set the environment variable 'export OPENBLAS_NUM_THREADS=1' to disable its internal multithreading\n"
     ]
    },
    {
     "data": {
      "application/vnd.jupyter.widget-view+json": {
       "model_id": "9db81fb9e5e944cfabc1d44cf601547a",
       "version_major": 2,
       "version_minor": 0
      },
      "text/plain": [
       "HBox(children=(FloatProgress(value=0.0, max=15.0), HTML(value='')))"
      ]
     },
     "metadata": {},
     "output_type": "display_data"
    },
    {
     "name": "stdout",
     "output_type": "stream",
     "text": [
      "\n"
     ]
    }
   ],
   "source": [
    "als_model = ALS(factors=128, regularization=0.08)\n",
    "als_model.fit(r.T * 15.0)"
   ]
  },
  {
   "cell_type": "code",
   "execution_count": 49,
   "metadata": {},
   "outputs": [
    {
     "data": {
      "text/plain": [
       "array([[ 0.08708247,  0.22377487, -0.28201085, ..., -0.216176  ,\n",
       "         0.62339747, -0.17579183],\n",
       "       [ 0.38757157, -0.08192531, -0.26700616, ..., -0.6219379 ,\n",
       "        -0.36399037,  0.05050861],\n",
       "       [ 0.06485939,  0.25710782, -0.03657802, ...,  0.3033687 ,\n",
       "         0.07647658, -0.04850008],\n",
       "       ...,\n",
       "       [-0.20174706,  0.4071364 , -0.3314475 , ..., -0.0588234 ,\n",
       "         0.278058  , -0.49946713],\n",
       "       [-0.31993487,  0.19406585,  0.09740806, ...,  0.2672826 ,\n",
       "         0.04594472, -0.13663504],\n",
       "       [-1.0544006 ,  1.1130584 , -0.08380224, ..., -0.23044313,\n",
       "         1.174417  , -0.19035602]], dtype=float32)"
      ]
     },
     "execution_count": 49,
     "metadata": {},
     "output_type": "execute_result"
    }
   ],
   "source": [
    "als_model.user_factors"
   ]
  },
  {
   "cell_type": "code",
   "execution_count": 50,
   "metadata": {},
   "outputs": [],
   "source": [
    "item_model = ALS(use_gpu=False)\n",
    "tag_model = ALS(use_gpu=False)\n",
    "item_model.user_factors = als_model.user_factors\n",
    "tag_model.user_factors = als_model.user_factors"
   ]
  },
  {
   "cell_type": "code",
   "execution_count": 51,
   "metadata": {},
   "outputs": [],
   "source": [
    "item_model.item_factors = als_model.item_factors[:n_items]\n",
    "tag_model.item_factors = als_model.item_factors[n_items:]"
   ]
  },
  {
   "cell_type": "code",
   "execution_count": 52,
   "metadata": {},
   "outputs": [],
   "source": [
    "item_rec_csr = r[:, :n_items]\n",
    "tag_rec_csr = r[:, n_items:]"
   ]
  },
  {
   "cell_type": "code",
   "execution_count": 53,
   "metadata": {},
   "outputs": [
    {
     "data": {
      "text/plain": [
       "<115071x50000 sparse matrix of type '<class 'numpy.int64'>'\n",
       "\twith 4021733 stored elements in Compressed Sparse Row format>"
      ]
     },
     "execution_count": 53,
     "metadata": {},
     "output_type": "execute_result"
    }
   ],
   "source": [
    "item_rec_csr"
   ]
  },
  {
   "cell_type": "code",
   "execution_count": 54,
   "metadata": {},
   "outputs": [
    {
     "data": {
      "text/plain": [
       "<115071x2500 sparse matrix of type '<class 'numpy.int64'>'\n",
       "\twith 447816 stored elements in Compressed Sparse Row format>"
      ]
     },
     "execution_count": 54,
     "metadata": {},
     "output_type": "execute_result"
    }
   ],
   "source": [
    "tag_rec_csr"
   ]
  },
  {
   "cell_type": "code",
   "execution_count": 66,
   "metadata": {},
   "outputs": [
    {
     "data": {
      "text/plain": [
       "(23015, 52500)"
      ]
     },
     "execution_count": 66,
     "metadata": {},
     "output_type": "execute_result"
    }
   ],
   "source": [
    "te_r.shape"
   ]
  },
  {
   "cell_type": "code",
   "execution_count": 67,
   "metadata": {},
   "outputs": [
    {
     "data": {
      "application/vnd.jupyter.widget-view+json": {
       "model_id": "efec4896b4c7413b9f87bf58b67ae684",
       "version_major": 2,
       "version_minor": 0
      },
      "text/plain": [
       "HBox(children=(FloatProgress(value=0.0, max=10.0), HTML(value='')))"
      ]
     },
     "metadata": {},
     "output_type": "display_data"
    },
    {
     "name": "stdout",
     "output_type": "stream",
     "text": [
      "\n"
     ]
    }
   ],
   "source": [
    "item_ret = []\n",
    "tag_ret = []\n",
    "from tqdm.auto import tqdm\n",
    "for u in tqdm(range(te_r.shape[0])):\n",
    "    item_rec = item_model.recommend(u, item_rec_csr, N=100)\n",
    "    item_rec = [idx_to_song[x[0]] for x in item_rec]\n",
    "    tag_rec = tag_model.recommend(u, tag_rec_csr, N=10)\n",
    "    tag_rec = [idx_to_tag[x[0]] for x in tag_rec if x[0] in idx_to_tag]\n",
    "    item_ret.append(item_rec)\n",
    "    tag_ret.append(tag_rec)"
   ]
  },
  {
   "cell_type": "code",
   "execution_count": 68,
   "metadata": {},
   "outputs": [
    {
     "data": {
      "text/plain": [
       "[]"
      ]
     },
     "execution_count": 68,
     "metadata": {},
     "output_type": "execute_result"
    }
   ],
   "source": [
    "tag_ret[0]"
   ]
  },
  {
   "cell_type": "code",
   "execution_count": null,
   "metadata": {},
   "outputs": [],
   "source": []
  }
 ],
 "metadata": {
  "kernelspec": {
   "display_name": "Python 3",
   "language": "python",
   "name": "python3"
  },
  "language_info": {
   "codemirror_mode": {
    "name": "ipython",
    "version": 3
   },
   "file_extension": ".py",
   "mimetype": "text/x-python",
   "name": "python",
   "nbconvert_exporter": "python",
   "pygments_lexer": "ipython3",
   "version": "3.7.7"
  }
 },
 "nbformat": 4,
 "nbformat_minor": 4
}
