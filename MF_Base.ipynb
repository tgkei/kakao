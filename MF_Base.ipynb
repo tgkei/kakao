{
 "cells": [
  {
   "cell_type": "code",
   "execution_count": 1,
   "metadata": {},
   "outputs": [],
   "source": [
    "import warnings\n",
    "warnings.filterwarnings(action='ignore')\n",
    "\n",
    "from implicit.evaluation import  *\n",
    "from implicit.als import AlternatingLeastSquares as ALS\n",
    "from implicit.bpr import BayesianPersonalizedRanking as BPR\n",
    "import numpy as np\n",
    "import os\n",
    "os.environ['KMP_DUPLICATE_LIB_OK']='True'\n",
    "from sklearn.utils import shuffle\n",
    "from scipy.sparse import *\n",
    "from collections import Counter\n",
    "import pandas as pd"
   ]
  },
  {
   "cell_type": "code",
   "execution_count": 2,
   "metadata": {},
   "outputs": [],
   "source": [
    "raw_train = pd.read_json(\"data/train.json\")\n",
    "raw_val = pd.read_json(\"data/val.json\")"
   ]
  },
  {
   "cell_type": "markdown",
   "metadata": {},
   "source": [
    "## Calc Portion"
   ]
  },
  {
   "cell_type": "code",
   "execution_count": 3,
   "metadata": {},
   "outputs": [],
   "source": [
    "def calc_portion_x(cols,x):\n",
    "    all_cols = []\n",
    "    for col in cols:\n",
    "        all_cols += col\n",
    "        \n",
    "    cols_cnt = dict(Counter(all_cols))\n",
    "    \n",
    "    cols_cnt_list = sorted(cols_cnt.items(), key=lambda t: -t[1])\n",
    "    \n",
    "    x_cnt = sum(x[1] for x in cols_cnt_list[:x])\n",
    "    total = sum(x[1] for x in cols_cnt_list)\n",
    "    return x_cnt/total"
   ]
  },
  {
   "cell_type": "markdown",
   "metadata": {},
   "source": [
    "### tag portion"
   ]
  },
  {
   "cell_type": "code",
   "execution_count": 4,
   "metadata": {},
   "outputs": [],
   "source": [
    "tag_portion = calc_portion_x(raw_train.tags.tolist(),2500)"
   ]
  },
  {
   "cell_type": "code",
   "execution_count": 5,
   "metadata": {},
   "outputs": [
    {
     "data": {
      "text/plain": [
       "0.8914641289355512"
      ]
     },
     "execution_count": 5,
     "metadata": {},
     "output_type": "execute_result"
    }
   ],
   "source": [
    "tag_portion"
   ]
  },
  {
   "cell_type": "markdown",
   "metadata": {},
   "source": [
    "### song portion"
   ]
  },
  {
   "cell_type": "code",
   "execution_count": 6,
   "metadata": {},
   "outputs": [],
   "source": [
    "song_portion = calc_portion_x(raw_train.songs.tolist(),50000)"
   ]
  },
  {
   "cell_type": "code",
   "execution_count": 7,
   "metadata": {},
   "outputs": [
    {
     "data": {
      "text/plain": [
       "0.7054667054871373"
      ]
     },
     "execution_count": 7,
     "metadata": {},
     "output_type": "execute_result"
    }
   ],
   "source": [
    "song_portion"
   ]
  },
  {
   "cell_type": "markdown",
   "metadata": {},
   "source": [
    "## Extract only meaningful data"
   ]
  },
  {
   "cell_type": "code",
   "execution_count": 8,
   "metadata": {},
   "outputs": [],
   "source": [
    "def get_top_x(cols, x):\n",
    "    \"\"\"\n",
    "    cols : 2D array\n",
    "    x: int\n",
    "    \"\"\"\n",
    "    all_cols = []\n",
    "    for col in cols:\n",
    "        all_cols += col\n",
    "        \n",
    "    cols_cnt = dict(Counter(all_cols))\n",
    "    \n",
    "    cols_cnt_list = sorted(cols_cnt.items(), key=lambda t: -t[1])\n",
    "    top_cols_cnt = dict()\n",
    "\n",
    "    for col, cnt in cols_cnt_list[:x]:\n",
    "        top_cols_cnt[col] = cnt\n",
    "    return top_cols_cnt"
   ]
  },
  {
   "cell_type": "code",
   "execution_count": 10,
   "metadata": {},
   "outputs": [],
   "source": [
    "top_songs = get_top_x(raw_train.songs.tolist(), 50000)"
   ]
  },
  {
   "cell_type": "code",
   "execution_count": 11,
   "metadata": {},
   "outputs": [],
   "source": [
    "top_song_idx = -1\n",
    "for top_song_num in top_songs.keys():\n",
    "    top_song_idx = max(top_song_idx, top_song_num)"
   ]
  },
  {
   "cell_type": "code",
   "execution_count": 12,
   "metadata": {},
   "outputs": [],
   "source": [
    "tmp_tag_dict = dict()\n",
    "idx = top_song_idx + 1\n",
    "for tags in raw_train.tags.tolist():\n",
    "    for tag in tags:\n",
    "        if tag not in tmp_tag_dict:\n",
    "            tmp_tag_dict[tag] = idx\n",
    "            idx+=1\n",
    "    \n",
    "for i, row in raw_train.iterrows():\n",
    "    tmp = []\n",
    "    for tag in row.tags:\n",
    "        tmp.append(tmp_tag_dict[tag])\n",
    "    raw_train.at[i,'tags'] = tmp"
   ]
  },
  {
   "cell_type": "code",
   "execution_count": 13,
   "metadata": {},
   "outputs": [],
   "source": [
    "top_tags = get_top_x(raw_train.tags.tolist(), 2500)"
   ]
  },
  {
   "cell_type": "markdown",
   "metadata": {},
   "source": [
    "## Make playlist X (songs + tags ids) table"
   ]
  },
  {
   "cell_type": "code",
   "execution_count": 14,
   "metadata": {},
   "outputs": [],
   "source": [
    "tr_songs = raw_train.songs.tolist()\n",
    "tr_tags = raw_train.tags.tolist()\n",
    "te_songs = raw_val.songs.tolist()\n",
    "te_tags = raw_val.tags.tolist()\n",
    "te_ids = raw_val.id.tolist()"
   ]
  },
  {
   "cell_type": "code",
   "execution_count": 15,
   "metadata": {},
   "outputs": [],
   "source": [
    "tr = []\n",
    "song_to_idx = {}\n",
    "tag_to_idx = {} \n",
    "idx = 0\n",
    "\n",
    "for songs in tr_songs:\n",
    "    for song_id in songs:\n",
    "        if song_id not in song_to_idx and song_id in top_songs:\n",
    "            song_to_idx[song_id] = idx\n",
    "            idx += 1\n",
    "    song_idxs = [song_to_idx[song_id] for song_id in songs if song_id in top_songs]\n",
    "    tr.append(song_idxs)\n",
    "n_items = len(song_to_idx)\n",
    "\n",
    "for i, tags in enumerate(tr_tags):\n",
    "    for tag in tags:\n",
    "        if tag not in tag_to_idx and tag in top_tags:\n",
    "            tag_to_idx[tag] = idx\n",
    "            idx += 1\n",
    "    tr[i].extend([tag_to_idx[tag] for tag in tags if tag in top_tags])\n",
    "n_tags = len(tag_to_idx)"
   ]
  },
  {
   "cell_type": "code",
   "execution_count": 16,
   "metadata": {},
   "outputs": [],
   "source": [
    "te = []\n",
    "\n",
    "idx = 0\n",
    "for songs in te_songs:\n",
    "    ret = [] \n",
    "    for song_id in songs:\n",
    "        if song_id not in song_to_idx or song_id not in top_songs:\n",
    "            continue\n",
    "        ret.append(song_to_idx[song_id])\n",
    "    te.append(ret)\n",
    "idx = 0\n",
    "for i, tags in enumerate(te_tags):\n",
    "    ret = []\n",
    "    for tag in tags:\n",
    "        if tag not in tag_to_idx or tag not in top_tags:\n",
    "            continue\n",
    "        ret.append(tag)\n",
    "    te[i].extend([tag_to_idx[x] for x in ret])"
   ]
  },
  {
   "cell_type": "code",
   "execution_count": 17,
   "metadata": {},
   "outputs": [],
   "source": [
    "tr = shuffle(tr)"
   ]
  },
  {
   "cell_type": "code",
   "execution_count": 18,
   "metadata": {},
   "outputs": [],
   "source": [
    "idx_to_song = {x:y for(y,x) in song_to_idx.items()}\n",
    "idx_to_tag = {x:y for(y,x) in tag_to_idx.items()}"
   ]
  },
  {
   "cell_type": "markdown",
   "metadata": {},
   "source": [
    "- n_items: song_to_idx's length\n",
    "- n_tags: ta_to_dix's length\n",
    "- song_to_idx: \n",
    "    - key: song id\n",
    "    - value : idx(unique key from 1 to n_item-1)\n",
    "- tag_to_idx:\n",
    "    - key: tag id\n",
    "    - value : idx(unique key from 1 to n_tags-1)\n",
    "- idx_to_song:\n",
    "    - key: idx\n",
    "    - value: song id\n",
    "- idx_to_tag:\n",
    "    - key: idx\n",
    "    - value: tag id"
   ]
  },
  {
   "cell_type": "code",
   "execution_count": 19,
   "metadata": {},
   "outputs": [],
   "source": [
    "def lil_to_csr(playlists):\n",
    "    \"\"\"\n",
    "    playlists: playlist with top songs and tags\n",
    "    \"\"\"\n",
    "    row = []\n",
    "    col = []\n",
    "    data = []\n",
    "    for row_idx, playlist in enumerate(playlists):\n",
    "        for info in playlist:\n",
    "            if info < n_items:\n",
    "                col.append(idx_to_song[info])\n",
    "            else:\n",
    "                col.append(idx_to_tag[info])\n",
    "            data.append(info)\n",
    "            row.append(row_idx)\n",
    "    return row, col, data"
   ]
  },
  {
   "cell_type": "code",
   "execution_count": 21,
   "metadata": {},
   "outputs": [],
   "source": [
    "csr_row, csr_col, csr_data = lil_to_csr(tr)"
   ]
  },
  {
   "cell_type": "code",
   "execution_count": 22,
   "metadata": {},
   "outputs": [],
   "source": [
    "r = csr_matrix((csr_data, (csr_row, csr_col)))"
   ]
  },
  {
   "cell_type": "code",
   "execution_count": 23,
   "metadata": {},
   "outputs": [
    {
     "name": "stderr",
     "output_type": "stream",
     "text": [
      "WARNING:root:OpenBLAS detected. Its highly recommend to set the environment variable 'export OPENBLAS_NUM_THREADS=1' to disable its internal multithreading\n"
     ]
    },
    {
     "data": {
      "application/vnd.jupyter.widget-view+json": {
       "model_id": "e6f2384c82ff47309ab4c9c607b3767f",
       "version_major": 2,
       "version_minor": 0
      },
      "text/plain": [
       "HBox(children=(FloatProgress(value=0.0, max=15.0), HTML(value='')))"
      ]
     },
     "metadata": {},
     "output_type": "display_data"
    },
    {
     "name": "stdout",
     "output_type": "stream",
     "text": [
      "\n"
     ]
    }
   ],
   "source": [
    "als_model = ALS(factors=128, regularization=0.08)\n",
    "als_model.fit(r.T * 15.0)"
   ]
  },
  {
   "cell_type": "code",
   "execution_count": 29,
   "metadata": {},
   "outputs": [
    {
     "data": {
      "text/plain": [
       "array([[  6.9513817 ,  -2.4813073 ,  -9.301803  , ...,   5.9767656 ,\n",
       "         -2.352466  ,   4.777112  ],\n",
       "       [  6.9844813 ,   3.3944857 ,   5.158386  , ...,   1.3513653 ,\n",
       "          1.5316392 ,   6.5867195 ],\n",
       "       [ -6.815578  ,   1.3902944 ,  -0.04743091, ...,  -2.0536335 ,\n",
       "         -7.355252  , -10.700894  ],\n",
       "       ...,\n",
       "       [ -8.500814  ,  -9.982717  ,  -5.1515574 , ...,  -4.6068625 ,\n",
       "          1.1491692 ,   9.207828  ],\n",
       "       [ -2.9057803 ,  -5.2427382 ,   2.2977285 , ...,  11.01917   ,\n",
       "          5.8742485 ,   1.0605428 ],\n",
       "       [  1.8127896 ,   0.87577945,   4.213435  , ...,   6.804237  ,\n",
       "          3.434759  ,   0.96029115]], dtype=float32)"
      ]
     },
     "execution_count": 29,
     "metadata": {},
     "output_type": "execute_result"
    }
   ],
   "source": [
    "als_model.user_factors"
   ]
  },
  {
   "cell_type": "code",
   "execution_count": 287,
   "metadata": {},
   "outputs": [],
   "source": [
    "item_model = ALS(use_gpu=False)\n",
    "tag_model = ALS(use_gpu=False)\n",
    "item_model.user_factors = als_model.user_factors\n",
    "tag_model.user_factors = als_model.user_factors"
   ]
  },
  {
   "cell_type": "code",
   "execution_count": 288,
   "metadata": {},
   "outputs": [],
   "source": [
    "item_model.item_factors = als_model.item_factors[:n_items]\n",
    "tag_model.item_factors = als_model.item_factors[n_items:]"
   ]
  },
  {
   "cell_type": "code",
   "execution_count": 289,
   "metadata": {},
   "outputs": [],
   "source": [
    "item_rec_csr = tr_csr[:, :n_items]\n",
    "tag_rec_csr = tr_csr[:, n_items:]"
   ]
  },
  {
   "cell_type": "code",
   "execution_count": 165,
   "metadata": {},
   "outputs": [
    {
     "data": {
      "application/vnd.jupyter.widget-view+json": {
       "model_id": "853a12beee964162b9c78834e000070b",
       "version_major": 2,
       "version_minor": 0
      },
      "text/plain": [
       "HBox(children=(FloatProgress(value=0.0, max=23015.0), HTML(value='')))"
      ]
     },
     "metadata": {},
     "output_type": "display_data"
    },
    {
     "name": "stdout",
     "output_type": "stream",
     "text": [
      "\n"
     ]
    },
    {
     "ename": "AttributeError",
     "evalue": "'numpy.ndarray' object has no attribute 'indices'",
     "output_type": "error",
     "traceback": [
      "\u001b[0;31m---------------------------------------------------------------------------\u001b[0m",
      "\u001b[0;31mAttributeError\u001b[0m                            Traceback (most recent call last)",
      "\u001b[0;32m<ipython-input-165-1f9b0551b4ae>\u001b[0m in \u001b[0;36m<module>\u001b[0;34m\u001b[0m\n\u001b[1;32m      3\u001b[0m \u001b[0;32mfrom\u001b[0m \u001b[0mtqdm\u001b[0m\u001b[0;34m.\u001b[0m\u001b[0mauto\u001b[0m \u001b[0;32mimport\u001b[0m \u001b[0mtqdm\u001b[0m\u001b[0;34m\u001b[0m\u001b[0;34m\u001b[0m\u001b[0m\n\u001b[1;32m      4\u001b[0m \u001b[0;32mfor\u001b[0m \u001b[0mu\u001b[0m \u001b[0;32min\u001b[0m \u001b[0mtqdm\u001b[0m\u001b[0;34m(\u001b[0m\u001b[0mrange\u001b[0m\u001b[0;34m(\u001b[0m\u001b[0mte_csr\u001b[0m\u001b[0;34m.\u001b[0m\u001b[0mshape\u001b[0m\u001b[0;34m[\u001b[0m\u001b[0;36m0\u001b[0m\u001b[0;34m]\u001b[0m\u001b[0;34m)\u001b[0m\u001b[0;34m)\u001b[0m\u001b[0;34m:\u001b[0m\u001b[0;34m\u001b[0m\u001b[0;34m\u001b[0m\u001b[0m\n\u001b[0;32m----> 5\u001b[0;31m     \u001b[0mitem_rec\u001b[0m \u001b[0;34m=\u001b[0m \u001b[0mitem_model\u001b[0m\u001b[0;34m.\u001b[0m\u001b[0mrecommend\u001b[0m\u001b[0;34m(\u001b[0m\u001b[0mu\u001b[0m\u001b[0;34m,\u001b[0m \u001b[0mitem_rec_csr\u001b[0m\u001b[0;34m,\u001b[0m \u001b[0mN\u001b[0m\u001b[0;34m=\u001b[0m\u001b[0;36m100\u001b[0m\u001b[0;34m)\u001b[0m\u001b[0;34m\u001b[0m\u001b[0;34m\u001b[0m\u001b[0m\n\u001b[0m\u001b[1;32m      6\u001b[0m     \u001b[0mitem_rec\u001b[0m \u001b[0;34m=\u001b[0m \u001b[0;34m[\u001b[0m\u001b[0midx_to_iid\u001b[0m\u001b[0;34m[\u001b[0m\u001b[0mx\u001b[0m\u001b[0;34m[\u001b[0m\u001b[0;36m0\u001b[0m\u001b[0;34m]\u001b[0m\u001b[0;34m]\u001b[0m \u001b[0;32mfor\u001b[0m \u001b[0mx\u001b[0m \u001b[0;32min\u001b[0m \u001b[0mitem_rec\u001b[0m\u001b[0;34m]\u001b[0m\u001b[0;34m\u001b[0m\u001b[0;34m\u001b[0m\u001b[0m\n\u001b[1;32m      7\u001b[0m     \u001b[0mtag_rec\u001b[0m \u001b[0;34m=\u001b[0m \u001b[0mtag_model\u001b[0m\u001b[0;34m.\u001b[0m\u001b[0mrecommend\u001b[0m\u001b[0;34m(\u001b[0m\u001b[0mu\u001b[0m\u001b[0;34m,\u001b[0m \u001b[0mtag_rec_csr\u001b[0m\u001b[0;34m,\u001b[0m \u001b[0mN\u001b[0m\u001b[0;34m=\u001b[0m\u001b[0;36m100\u001b[0m\u001b[0;34m)\u001b[0m\u001b[0;34m\u001b[0m\u001b[0;34m\u001b[0m\u001b[0m\n",
      "\u001b[0;32mimplicit/recommender_base.pyx\u001b[0m in \u001b[0;36mimplicit.recommender_base.MatrixFactorizationBase.recommend\u001b[0;34m()\u001b[0m\n",
      "\u001b[0;31mAttributeError\u001b[0m: 'numpy.ndarray' object has no attribute 'indices'"
     ]
    }
   ],
   "source": [
    "item_ret = []\n",
    "tag_ret = []\n",
    "from tqdm.auto import tqdm\n",
    "for u in tqdm(range(te_csr.shape[0])):\n",
    "    item_rec = item_model.recommend(u, item_rec_csr, N=100)\n",
    "    item_rec = [idx_to_iid[x[0]] for x in item_rec]\n",
    "    tag_rec = tag_model.recommend(u, tag_rec_csr, N=100)\n",
    "    tag_rec = [idx_to_tag[x[0]] for x in tag_rec if x[0] in idx_to_tag]\n",
    "    item_ret.append(item_rec)\n",
    "    tag_ret.append(tag_rec)"
   ]
  },
  {
   "cell_type": "code",
   "execution_count": null,
   "metadata": {},
   "outputs": [],
   "source": []
  }
 ],
 "metadata": {
  "kernelspec": {
   "display_name": "Python 3",
   "language": "python",
   "name": "python3"
  },
  "language_info": {
   "codemirror_mode": {
    "name": "ipython",
    "version": 3
   },
   "file_extension": ".py",
   "mimetype": "text/x-python",
   "name": "python",
   "nbconvert_exporter": "python",
   "pygments_lexer": "ipython3",
   "version": "3.7.7"
  }
 },
 "nbformat": 4,
 "nbformat_minor": 4
}
