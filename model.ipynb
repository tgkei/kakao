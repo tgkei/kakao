{
 "cells": [
  {
   "cell_type": "code",
   "execution_count": 1,
   "metadata": {},
   "outputs": [],
   "source": [
    "import warnings\n",
    "warnings.filterwarnings(action='ignore')\n",
    "\n",
    "from implicit.evaluation import  *\n",
    "from implicit.als import AlternatingLeastSquares as ALS\n",
    "from implicit.bpr import BayesianPersonalizedRanking as BPR\n",
    "import numpy as np\n",
    "import os\n",
    "os.environ['KMP_DUPLICATE_LIB_OK']='True'\n",
    "from scipy.sparse import *\n",
    "import pandas as pd"
   ]
  },
  {
   "cell_type": "code",
   "execution_count": 2,
   "metadata": {},
   "outputs": [],
   "source": [
    "from scipy import sparse"
   ]
  },
  {
   "cell_type": "markdown",
   "metadata": {},
   "source": [
    "## Call preprocessed data"
   ]
  },
  {
   "cell_type": "code",
   "execution_count": 3,
   "metadata": {},
   "outputs": [],
   "source": [
    "r = sparse.load_npz(\"./data/preprocessed/csr.npz\")"
   ]
  },
  {
   "cell_type": "code",
   "execution_count": 5,
   "metadata": {},
   "outputs": [],
   "source": [
    "import pickle\n",
    "import os\n",
    "from pathlib import Path\n",
    "script_dir = os.getcwd()\n",
    "data_dir = \"data/preprocessed\"\n",
    "abs_data_path = Path(os.path.join(script_dir, data_dir))\n",
    "if not os.path.exists(abs_data_path):\n",
    "    os.makedirs(abs_data_path)\n",
    "with open(abs_data_path/\"extra.pickle\", 'rb') as file:\n",
    "    extra = pickle.load(file)\n",
    "    \n",
    "with open(abs_data_path/\"song.pickle\", \"rb\") as f:\n",
    "    idx_to_song = pickle.load(f)\n",
    "\n",
    "with open(abs_data_path/\"tag.pickle\", \"rb\") as f:\n",
    "    idx_to_tag = pickle.load(f)"
   ]
  },
  {
   "cell_type": "code",
   "execution_count": 7,
   "metadata": {},
   "outputs": [
    {
     "data": {
      "text/plain": [
       "dict_keys(['v_len', 'te_ids', 'n_items', 'SONG_TOP_X'])"
      ]
     },
     "execution_count": 7,
     "metadata": {},
     "output_type": "execute_result"
    }
   ],
   "source": [
    "extra.keys()"
   ]
  },
  {
   "cell_type": "code",
   "execution_count": 8,
   "metadata": {},
   "outputs": [],
   "source": [
    "te_len = extra[\"v_len\"]\n",
    "te_ids = extra[\"te_ids\"]\n",
    "n_items = extra[\"n_items\"]\n",
    "SONG_TOP_X = extra[\"SONG_TOP_X\"]"
   ]
  },
  {
   "cell_type": "markdown",
   "metadata": {},
   "source": [
    "## Run Model"
   ]
  },
  {
   "cell_type": "code",
   "execution_count": 9,
   "metadata": {},
   "outputs": [],
   "source": [
    "te_r= r[:te_len]"
   ]
  },
  {
   "cell_type": "code",
   "execution_count": 10,
   "metadata": {},
   "outputs": [],
   "source": [
    "tr_r = r[te_len:]"
   ]
  },
  {
   "cell_type": "code",
   "execution_count": 11,
   "metadata": {},
   "outputs": [
    {
     "name": "stderr",
     "output_type": "stream",
     "text": [
      "WARNING:root:OpenBLAS detected. Its highly recommend to set the environment variable 'export OPENBLAS_NUM_THREADS=1' to disable its internal multithreading\n"
     ]
    },
    {
     "data": {
      "application/vnd.jupyter.widget-view+json": {
       "model_id": "a8c31c28840c43d18bb5712a5e1da50d",
       "version_major": 2,
       "version_minor": 0
      },
      "text/plain": [
       "HBox(children=(FloatProgress(value=0.0, max=15.0), HTML(value='')))"
      ]
     },
     "metadata": {},
     "output_type": "display_data"
    },
    {
     "name": "stdout",
     "output_type": "stream",
     "text": [
      "\n"
     ]
    }
   ],
   "source": [
    "als_model = ALS(factors=128, regularization=0.08)\n",
    "als_model.fit(r.T * 15.0)"
   ]
  },
  {
   "cell_type": "code",
   "execution_count": 12,
   "metadata": {},
   "outputs": [
    {
     "data": {
      "text/plain": [
       "array([[ 0.05293079,  0.06377667,  0.08461244, ..., -0.01540443,\n",
       "         0.11774618,  0.09719596],\n",
       "       [ 0.        ,  0.        ,  0.        , ...,  0.        ,\n",
       "         0.        ,  0.        ],\n",
       "       [ 0.00183251,  0.00861166, -0.00713021, ...,  0.00346161,\n",
       "         0.00190079, -0.00284596],\n",
       "       ...,\n",
       "       [ 0.03752115, -0.00759496,  0.00530226, ...,  0.04920263,\n",
       "        -0.05063215, -0.00895627],\n",
       "       [-0.09927305, -0.05888007, -0.01682278, ...,  0.04795081,\n",
       "         0.02027315, -0.00889514],\n",
       "       [-0.04479675,  0.01561548, -0.0318751 , ..., -0.0409964 ,\n",
       "        -0.0081107 ,  0.12591356]], dtype=float32)"
      ]
     },
     "execution_count": 12,
     "metadata": {},
     "output_type": "execute_result"
    }
   ],
   "source": [
    "als_model.user_factors"
   ]
  },
  {
   "cell_type": "code",
   "execution_count": 13,
   "metadata": {},
   "outputs": [],
   "source": [
    "item_model = ALS(use_gpu=False)\n",
    "tag_model = ALS(use_gpu=False)\n",
    "item_model.user_factors = als_model.user_factors\n",
    "tag_model.user_factors = als_model.user_factors"
   ]
  },
  {
   "cell_type": "code",
   "execution_count": 14,
   "metadata": {},
   "outputs": [],
   "source": [
    "item_model.item_factors = als_model.item_factors[:n_items]\n",
    "tag_model.item_factors = als_model.item_factors[n_items:]"
   ]
  },
  {
   "cell_type": "code",
   "execution_count": 15,
   "metadata": {},
   "outputs": [],
   "source": [
    "item_rec_csr = r[:, :n_items]\n",
    "tag_rec_csr = r[:, n_items:]"
   ]
  },
  {
   "cell_type": "code",
   "execution_count": 16,
   "metadata": {},
   "outputs": [],
   "source": [
    "item_ret = []\n",
    "\n",
    "for u in range(te_r.shape[0]):\n",
    "    item_rec = item_model.recommend(u, item_rec_csr, N=100)\n",
    "    item_rec = [idx_to_song[x[0]] for x in item_rec if x[0] in idx_to_song]\n",
    "    item_ret.append(item_rec)"
   ]
  },
  {
   "cell_type": "code",
   "execution_count": 17,
   "metadata": {},
   "outputs": [],
   "source": [
    "tag_ret = []\n",
    "for u in range(te_r.shape[0]):\n",
    "    tag_rec = tag_model.recommend(u, tag_rec_csr, N=10)\n",
    "    tag_rec = [idx_to_tag[x[0]+50000] for x in tag_rec if x[0]+50000 in idx_to_tag]\n",
    "    tag_ret.append(tag_rec)"
   ]
  },
  {
   "cell_type": "code",
   "execution_count": 48,
   "metadata": {},
   "outputs": [],
   "source": [
    "returnval = []\n",
    "for _id, rec, tag_rec in zip(te_ids, item_ret, tag_ret):\n",
    "    returnval.append({\n",
    "        \"id\": _id,\n",
    "        \"songs\": rec[:100],\n",
    "        \"tags\": tag_rec[:10]\n",
    "    })"
   ]
  },
  {
   "cell_type": "code",
   "execution_count": 49,
   "metadata": {},
   "outputs": [],
   "source": [
    "import json\n",
    "with open('ret.json', 'w', encoding='utf-8') as f:\n",
    "    f.write(json.dumps(returnval, ensure_ascii=False))"
   ]
  },
  {
   "cell_type": "code",
   "execution_count": null,
   "metadata": {},
   "outputs": [],
   "source": []
  }
 ],
 "metadata": {
  "kernelspec": {
   "display_name": "Python 3",
   "language": "python",
   "name": "python3"
  },
  "language_info": {
   "codemirror_mode": {
    "name": "ipython",
    "version": 3
   },
   "file_extension": ".py",
   "mimetype": "text/x-python",
   "name": "python",
   "nbconvert_exporter": "python",
   "pygments_lexer": "ipython3",
   "version": "3.7.7"
  }
 },
 "nbformat": 4,
 "nbformat_minor": 4
}
